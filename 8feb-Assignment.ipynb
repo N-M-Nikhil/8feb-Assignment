{
 "cells": [
  {
   "cell_type": "code",
   "execution_count": null,
   "id": "73f92139-ca17-4f09-abb8-4b393492b71e",
   "metadata": {},
   "outputs": [],
   "source": [
    "# Q.1.Answer\n",
    "\n",
    "# The process of displaying the relevant information and hiding the unnecessary details is known as \n",
    "# abstraction in oop's.\n",
    "\n",
    "# for example : We know that if we press the '+' button of remote then it increases the volume but we \n",
    "# don't know how does it work in background."
   ]
  },
  {
   "cell_type": "code",
   "execution_count": null,
   "id": "4f40351f-6182-4670-8c4c-71d2361061e5",
   "metadata": {},
   "outputs": [],
   "source": [
    "# Q.2.Answer\n",
    "\n",
    "# Abstraction : Displays the relevant information and hiding the unnecessary details\n",
    "# for example : We know that if we press the '+' button of remote then it increases the volume but we \n",
    "# don't know how does it work in background.\n",
    "\n",
    "\n",
    "# Encapsulation : Hides the complexity of a system.\n",
    "# for example : when we click on '+' button it increases the volume but the backend process are not visible\n",
    "# to us\n"
   ]
  },
  {
   "cell_type": "code",
   "execution_count": null,
   "id": "c11bfa5e-39f3-4138-b67b-7ca07a05ea28",
   "metadata": {},
   "outputs": [],
   "source": [
    "# Q.3.Answer\n",
    "\n",
    "# Abstract base classes.It is used for providing the infrastructure for definie custom 'abc'.\n"
   ]
  },
  {
   "cell_type": "code",
   "execution_count": null,
   "id": "0989fa28-2d21-4740-a216-dc0095d7c51e",
   "metadata": {},
   "outputs": [],
   "source": [
    "# Q.4.Answer\n",
    "\n",
    "# we can achieve data abstraction by creating abstract classes and inheriting them."
   ]
  },
  {
   "cell_type": "code",
   "execution_count": null,
   "id": "7a95beaf-d1c1-45e5-a5ce-a4c7f22ace6a",
   "metadata": {},
   "outputs": [],
   "source": [
    "# Q.5.Answer\n",
    "\n",
    "No,we can't create an instance of an abstract because it does not "
   ]
  }
 ],
 "metadata": {
  "kernelspec": {
   "display_name": "Python 3 (ipykernel)",
   "language": "python",
   "name": "python3"
  },
  "language_info": {
   "codemirror_mode": {
    "name": "ipython",
    "version": 3
   },
   "file_extension": ".py",
   "mimetype": "text/x-python",
   "name": "python",
   "nbconvert_exporter": "python",
   "pygments_lexer": "ipython3",
   "version": "3.10.8"
  }
 },
 "nbformat": 4,
 "nbformat_minor": 5
}
